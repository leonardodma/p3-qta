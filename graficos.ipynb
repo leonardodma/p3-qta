{
 "cells": [
  {
   "cell_type": "markdown",
   "metadata": {},
   "source": [
    "# Gráficos  - Projeto 3 - QTA"
   ]
  },
  {
   "cell_type": "code",
   "execution_count": 27,
   "metadata": {},
   "outputs": [],
   "source": [
    "import pandas as pd\n",
    "import matplotlib.pyplot as plt\n",
    "import seaborn as sns"
   ]
  },
  {
   "cell_type": "markdown",
   "metadata": {},
   "source": [
    "### Análise histórico ponto de coleta ponte socorro\n"
   ]
  },
  {
   "cell_type": "code",
   "execution_count": 28,
   "metadata": {},
   "outputs": [],
   "source": [
    "relatorio_qualidade_2005_2010 = pd.read_excel(\"./planilhas/RelatorioQualidadeAguasSuperficiais-2005-2010.xlsx\", engine='openpyxl')\n",
    "relatorio_qualidade_2010_2015 = pd.read_excel(\"./planilhas/RelatorioQualidadeAguasSuperficiais-2010-2015.xlsx\", engine='openpyxl')\n",
    "relatorio_qualidade_2015_2020 = pd.read_excel(\"./planilhas/RelatorioQualidadeAguasSuperficiais-2015-2020.xlsx\", engine='openpyxl')\n",
    "relatorio_qualidade_2020_2021 = pd.read_excel(\"./planilhas/RelatorioQualidadeAguasSuperficiais-2020-2021.xlsx\", engine='openpyxl')\n",
    "all_dfs = [relatorio_qualidade_2005_2010, relatorio_qualidade_2010_2015, relatorio_qualidade_2015_2020, relatorio_qualidade_2020_2021]\n",
    "historico = pd.concat(all_dfs)"
   ]
  },
  {
   "cell_type": "code",
   "execution_count": 54,
   "metadata": {},
   "outputs": [],
   "source": [
    "def get_data_from_parameter(parameter, multiple_parameters = False):\n",
    "    if not multiple_parameters:\n",
    "        df = historico[historico[\"Parametro\"] == parameter][[\"Data Coleta\", \"Valor\"]]\n",
    "    else:\n",
    "        df = historico[historico[\"Parametro\"].isin(parameter)][[\"Parametro\", \"Data Coleta\", \"Valor\"]]\n",
    "    \n",
    "    return df\n",
    "\n",
    "\n",
    "ph = get_data_from_parameter(\"pH\")\n",
    "temp_agua = get_data_from_parameter(\"Temperatura da Água\")\n",
    "temp_ar = get_data_from_parameter(\"Temperatura do Ar\")\n",
    "coliformes = get_data_from_parameter(\"Escherichia coli**\")\n",
    "solidos_suspensos = get_data_from_parameter(\"Sólido Suspenso Total\")\n",
    "turbidez = get_data_from_parameter(\"Turbidez\")\n",
    "nitrogenio = get_data_from_parameter([\"Nitrogênio Kjeldahl\", \"Nitrogênio-Nitrito\", \"Nitrogênio-Nitrato\", \"Nitrogênio Amoniacal\"], multiple_parameters=True)\n",
    "ox_dissolvido = get_data_from_parameter(\"Oxigênio Dissolvido\")\n",
    "dbo = get_data_from_parameter(\"DBO (5, 20)\")\n",
    "\n",
    "\n"
   ]
  },
  {
   "cell_type": "code",
   "execution_count": 57,
   "metadata": {},
   "outputs": [
    {
     "data": {
      "text/html": [
       "<div>\n",
       "<style scoped>\n",
       "    .dataframe tbody tr th:only-of-type {\n",
       "        vertical-align: middle;\n",
       "    }\n",
       "\n",
       "    .dataframe tbody tr th {\n",
       "        vertical-align: top;\n",
       "    }\n",
       "\n",
       "    .dataframe thead th {\n",
       "        text-align: right;\n",
       "    }\n",
       "</style>\n",
       "<table border=\"1\" class=\"dataframe\">\n",
       "  <thead>\n",
       "    <tr style=\"text-align: right;\">\n",
       "      <th></th>\n",
       "      <th>Parametro</th>\n",
       "      <th>Data Coleta</th>\n",
       "      <th>Valor</th>\n",
       "    </tr>\n",
       "  </thead>\n",
       "  <tbody>\n",
       "    <tr>\n",
       "      <th>149</th>\n",
       "      <td>Nitrogênio Kjeldahl</td>\n",
       "      <td>28/01/2009</td>\n",
       "      <td>3,51000000</td>\n",
       "    </tr>\n",
       "    <tr>\n",
       "      <th>150</th>\n",
       "      <td>Nitrogênio Kjeldahl</td>\n",
       "      <td>18/03/2009</td>\n",
       "      <td>9,46000000</td>\n",
       "    </tr>\n",
       "    <tr>\n",
       "      <th>151</th>\n",
       "      <td>Nitrogênio Kjeldahl</td>\n",
       "      <td>27/05/2009</td>\n",
       "      <td>22,80000000</td>\n",
       "    </tr>\n",
       "    <tr>\n",
       "      <th>152</th>\n",
       "      <td>Nitrogênio Kjeldahl</td>\n",
       "      <td>17/06/2009</td>\n",
       "      <td>20,90000000</td>\n",
       "    </tr>\n",
       "    <tr>\n",
       "      <th>153</th>\n",
       "      <td>Nitrogênio Kjeldahl</td>\n",
       "      <td>15/07/2009</td>\n",
       "      <td>15,60000000</td>\n",
       "    </tr>\n",
       "    <tr>\n",
       "      <th>...</th>\n",
       "      <td>...</td>\n",
       "      <td>...</td>\n",
       "      <td>...</td>\n",
       "    </tr>\n",
       "    <tr>\n",
       "      <th>114</th>\n",
       "      <td>Nitrogênio Amoniacal</td>\n",
       "      <td>19/02/2020</td>\n",
       "      <td>8,91000000</td>\n",
       "    </tr>\n",
       "    <tr>\n",
       "      <th>115</th>\n",
       "      <td>Nitrogênio Amoniacal</td>\n",
       "      <td>14/07/2020</td>\n",
       "      <td>11,10000000</td>\n",
       "    </tr>\n",
       "    <tr>\n",
       "      <th>116</th>\n",
       "      <td>Nitrogênio Amoniacal</td>\n",
       "      <td>03/09/2020</td>\n",
       "      <td>8,40000000</td>\n",
       "    </tr>\n",
       "    <tr>\n",
       "      <th>117</th>\n",
       "      <td>Nitrogênio Amoniacal</td>\n",
       "      <td>05/11/2020</td>\n",
       "      <td>11,00000000</td>\n",
       "    </tr>\n",
       "    <tr>\n",
       "      <th>118</th>\n",
       "      <td>Nitrogênio Amoniacal</td>\n",
       "      <td>28/01/2021</td>\n",
       "      <td>8,49000000</td>\n",
       "    </tr>\n",
       "  </tbody>\n",
       "</table>\n",
       "<p>308 rows × 3 columns</p>\n",
       "</div>"
      ],
      "text/plain": [
       "                Parametro Data Coleta        Valor\n",
       "149   Nitrogênio Kjeldahl  28/01/2009   3,51000000\n",
       "150   Nitrogênio Kjeldahl  18/03/2009   9,46000000\n",
       "151   Nitrogênio Kjeldahl  27/05/2009  22,80000000\n",
       "152   Nitrogênio Kjeldahl  17/06/2009  20,90000000\n",
       "153   Nitrogênio Kjeldahl  15/07/2009  15,60000000\n",
       "..                    ...         ...          ...\n",
       "114  Nitrogênio Amoniacal  19/02/2020   8,91000000\n",
       "115  Nitrogênio Amoniacal  14/07/2020  11,10000000\n",
       "116  Nitrogênio Amoniacal  03/09/2020   8,40000000\n",
       "117  Nitrogênio Amoniacal  05/11/2020  11,00000000\n",
       "118  Nitrogênio Amoniacal  28/01/2021   8,49000000\n",
       "\n",
       "[308 rows x 3 columns]"
      ]
     },
     "execution_count": 57,
     "metadata": {},
     "output_type": "execute_result"
    }
   ],
   "source": [
    "nitrogenio"
   ]
  },
  {
   "cell_type": "markdown",
   "metadata": {},
   "source": [
    "### Dados Coletados "
   ]
  },
  {
   "cell_type": "code",
   "execution_count": 56,
   "metadata": {},
   "outputs": [],
   "source": [
    "pH = 0.12\n",
    "DBO = 0.10\n",
    "OD = 0.17\n",
    "temp = 0.10\n",
    "nitro = 0.10\n",
    "turb = 0.08\n",
    "fos = 0.1\n",
    "res = 0.08\n",
    "fosf = 0.1\n",
    "coli = 0.15\n",
    "list_data = [DBO, nitro, coli, pH, OD, temp, fosf, turb, res]"
   ]
  }
 ],
 "metadata": {
  "interpreter": {
   "hash": "6d46af94c2bbce495f1e668725902fa517c90b1782bcfe2fce0dd9868df553d3"
  },
  "kernelspec": {
   "display_name": "Python 3.8.5 64-bit ('base': conda)",
   "name": "python3"
  },
  "language_info": {
   "codemirror_mode": {
    "name": "ipython",
    "version": 3
   },
   "file_extension": ".py",
   "mimetype": "text/x-python",
   "name": "python",
   "nbconvert_exporter": "python",
   "pygments_lexer": "ipython3",
   "version": "3.8.5"
  }
 },
 "nbformat": 4,
 "nbformat_minor": 4
}
