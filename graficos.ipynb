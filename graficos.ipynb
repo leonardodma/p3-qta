{
 "cells": [
  {
   "cell_type": "markdown",
   "metadata": {},
   "source": [
    "# Gráficos  - Projeto 3 - QTA"
   ]
  },
  {
   "cell_type": "code",
   "execution_count": 23,
   "metadata": {},
   "outputs": [],
   "source": [
    "import pandas as pd\n",
    "import matplotlib.pyplot as plt\n",
    "import seaborn as sns\n",
    "import matplotlib.dates as mdates"
   ]
  },
  {
   "cell_type": "markdown",
   "metadata": {},
   "source": [
    "### Obtendo dados\n"
   ]
  },
  {
   "cell_type": "code",
   "execution_count": 24,
   "metadata": {},
   "outputs": [],
   "source": [
    "relatorio_qualidade_2005_2010 = pd.read_excel(\"./planilhas/RelatorioQualidadeAguasSuperficiais-2005-2010.xlsx\", engine='openpyxl')\n",
    "relatorio_qualidade_2010_2015 = pd.read_excel(\"./planilhas/RelatorioQualidadeAguasSuperficiais-2010-2015.xlsx\", engine='openpyxl')\n",
    "relatorio_qualidade_2015_2020 = pd.read_excel(\"./planilhas/RelatorioQualidadeAguasSuperficiais-2015-2020.xlsx\", engine='openpyxl')\n",
    "relatorio_qualidade_2020_2021 = pd.read_excel(\"./planilhas/RelatorioQualidadeAguasSuperficiais-2020-2021.xlsx\", engine='openpyxl')\n",
    "all_dfs = [relatorio_qualidade_2005_2010, relatorio_qualidade_2010_2015, relatorio_qualidade_2015_2020, relatorio_qualidade_2020_2021]\n",
    "historico = pd.concat(all_dfs)"
   ]
  },
  {
   "cell_type": "code",
   "execution_count": 25,
   "metadata": {},
   "outputs": [],
   "source": [
    "def get_data_from_parameter(parameter, multiple_parameters = False):\n",
    "    if not multiple_parameters:\n",
    "        df = historico[historico[\"Parametro\"] == parameter][[\"Data Coleta\", \"Valor\"]]\n",
    "    else:\n",
    "        df = historico[historico[\"Parametro\"].isin(parameter)][[\"Parametro\", \"Data Coleta\", \"Valor\"]]\n",
    "    \n",
    "    return df\n",
    "\n",
    "\n",
    "ph = get_data_from_parameter(\"pH\")\n",
    "temp_agua = get_data_from_parameter(\"Temperatura da Água\")\n",
    "temp_ar = get_data_from_parameter(\"Temperatura do Ar\")\n",
    "coliformes = get_data_from_parameter(\"Escherichia coli**\")\n",
    "solidos_suspensos = get_data_from_parameter(\"Sólido Suspenso Total\")\n",
    "turbidez = get_data_from_parameter(\"Turbidez\")\n",
    "nitrogenio = get_data_from_parameter([\"Nitrogênio Kjeldahl\", \"Nitrogênio-Nitrito\", \"Nitrogênio-Nitrato\", \"Nitrogênio Amoniacal\"], multiple_parameters=True)\n",
    "ox_dissolvido = get_data_from_parameter(\"Oxigênio Dissolvido\")\n",
    "dbo = get_data_from_parameter(\"DBO (5, 20)\")\n",
    "\n",
    "\n"
   ]
  },
  {
   "cell_type": "code",
   "execution_count": 26,
   "metadata": {},
   "outputs": [
    {
     "data": {
      "text/html": [
       "<div>\n",
       "<style scoped>\n",
       "    .dataframe tbody tr th:only-of-type {\n",
       "        vertical-align: middle;\n",
       "    }\n",
       "\n",
       "    .dataframe tbody tr th {\n",
       "        vertical-align: top;\n",
       "    }\n",
       "\n",
       "    .dataframe thead th {\n",
       "        text-align: right;\n",
       "    }\n",
       "</style>\n",
       "<table border=\"1\" class=\"dataframe\">\n",
       "  <thead>\n",
       "    <tr style=\"text-align: right;\">\n",
       "      <th></th>\n",
       "      <th>Data Coleta</th>\n",
       "      <th>Valor</th>\n",
       "    </tr>\n",
       "  </thead>\n",
       "  <tbody>\n",
       "    <tr>\n",
       "      <th>90</th>\n",
       "      <td>30/01/2012</td>\n",
       "      <td>1700000,00000000</td>\n",
       "    </tr>\n",
       "    <tr>\n",
       "      <th>91</th>\n",
       "      <td>26/03/2012</td>\n",
       "      <td>480000,00000000</td>\n",
       "    </tr>\n",
       "    <tr>\n",
       "      <th>92</th>\n",
       "      <td>10/05/2012</td>\n",
       "      <td>490000,00000000</td>\n",
       "    </tr>\n",
       "    <tr>\n",
       "      <th>93</th>\n",
       "      <td>30/07/2012</td>\n",
       "      <td>520000,00000000</td>\n",
       "    </tr>\n",
       "    <tr>\n",
       "      <th>94</th>\n",
       "      <td>24/09/2012</td>\n",
       "      <td>420000,00000000</td>\n",
       "    </tr>\n",
       "  </tbody>\n",
       "</table>\n",
       "</div>"
      ],
      "text/plain": [
       "   Data Coleta             Valor\n",
       "90  30/01/2012  1700000,00000000\n",
       "91  26/03/2012   480000,00000000\n",
       "92  10/05/2012   490000,00000000\n",
       "93  30/07/2012   520000,00000000\n",
       "94  24/09/2012   420000,00000000"
      ]
     },
     "execution_count": 26,
     "metadata": {},
     "output_type": "execute_result"
    }
   ],
   "source": [
    "coliformes.head(5)"
   ]
  },
  {
   "cell_type": "markdown",
   "metadata": {},
   "source": [
    "### Plotando gráficos "
   ]
  },
  {
   "cell_type": "code",
   "execution_count": 36,
   "metadata": {},
   "outputs": [
    {
     "data": {
      "image/png": "[encoded data removed]",
      "text/plain": [
       "<Figure size 432x288 with 1 Axes>"
      ]
     },
     "metadata": {
      "needs_background": "light"
     },
     "output_type": "display_data"
    }
   ],
   "source": [
    "def plot_data(data_x, data_y, title, y_label):\n",
    "    #plt.gca().xaxis.set_major_formatter(mdates.DateFormatter('%m/%d/%Y'))\n",
    "    #plt.gca().xaxis.set_major_locator(mdates.DayLocator())\n",
    "    plt.plot(data_x[:15], data_y[:15], \"bo\")\n",
    "    plt.gcf().autofmt_xdate()\n",
    "    plt.title(title)\n",
    "    plt.ylabel(y_label)\n",
    "    plt.grid(True)\n",
    "    plt.show()\n",
    "\n",
    "\n",
    "plot_data(ph[\"Data Coleta\"], ph[\"Valor\"], \"pH\", \"U.pH\")"
   ]
  },
  {
   "cell_type": "markdown",
   "metadata": {},
   "source": [
    "### Dados Coletados "
   ]
  },
  {
   "cell_type": "code",
   "execution_count": 32,
   "metadata": {},
   "outputs": [],
   "source": [
    "pH = 0.12\n",
    "DBO = 0.10\n",
    "OD = 0.17\n",
    "temp = 0.10\n",
    "nitro = 0.10\n",
    "turb = 0.08\n",
    "fos = 0.1\n",
    "res = 0.08\n",
    "fosf = 0.1\n",
    "coli = 0.15\n",
    "list_data = [DBO, nitro, coli, pH, OD, temp, fosf, turb, res]"
   ]
  }
 ],
 "metadata": {
  "interpreter": {
   "hash": "6d46af94c2bbce495f1e668725902fa517c90b1782bcfe2fce0dd9868df553d3"
  },
  "kernelspec": {
   "display_name": "Python 3.8.5 64-bit ('base': conda)",
   "name": "python3"
  },
  "language_info": {
   "codemirror_mode": {
    "name": "ipython",
    "version": 3
   },
   "file_extension": ".py",
   "mimetype": "text/x-python",
   "name": "python",
   "nbconvert_exporter": "python",
   "pygments_lexer": "ipython3",
   "version": "3.8.5"
  }
 },
 "nbformat": 4,
 "nbformat_minor": 4
}
